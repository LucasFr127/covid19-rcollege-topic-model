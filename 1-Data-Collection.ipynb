{
 "cells": [
  {
   "cell_type": "markdown",
   "id": "021fc9ba",
   "metadata": {},
   "source": [
    "# Data Collection"
   ]
  },
  {
   "cell_type": "markdown",
   "id": "aad1c067",
   "metadata": {},
   "source": [
    "The first step is collecting the data. This can be done with the [Pushshift API](https://github.com/pushshift/api), which will be called through [PMAW](https://github.com/mattpodolak/pmaw). As an additional step, the package [PRAW](https://github.com/praw-dev/praw) will also be used, which will ensure that the corresponding Reddit metadata is up-to-date."
   ]
  },
  {
   "cell_type": "code",
   "execution_count": null,
   "id": "d8037bd0",
   "metadata": {},
   "outputs": [],
   "source": [
    "# Versions used:\n",
    "#\n",
    "# python 3.9.7\n",
    "# pandas 1.3.5\n",
    "# praw   7.5.0\n",
    "# pmaw   2.1.1\n",
    "\n",
    "import datetime as dt\n",
    "\n",
    "import pandas as pd\n",
    "import praw\n",
    "from pmaw import PushshiftAPI"
   ]
  },
  {
   "cell_type": "markdown",
   "id": "cac0aa6a",
   "metadata": {},
   "source": [
    "## Defining Parameters\n",
    "\n",
    "The data will be collected from [r/college](https://reddit.com/r/college/), taking into account submissions from January 1, 2020 00:00 UTC to January 1, 2022 00:00 UTC."
   ]
  },
  {
   "cell_type": "code",
   "execution_count": null,
   "id": "4c2daac8",
   "metadata": {},
   "outputs": [],
   "source": [
    "reddit = praw.Reddit(client_id='[REDACTED]',\n",
    "                     client_secret='[REDACTED]',\n",
    "                     user_agent=f'python: PMAW request enrichment (by u/[REDACTED])')\n",
    "\n",
    "subreddit = 'college'\n",
    "\n",
    "start_date = int(dt.datetime(2020, 1, 1, 0, 0).timestamp())\n",
    "end_date = int(dt.datetime(2022, 1, 1, 0, 0).timestamp())"
   ]
  },
  {
   "cell_type": "markdown",
   "id": "80bc718a",
   "metadata": {},
   "source": [
    "## Collecting the Data\n",
    "\n",
    "We can define PushshiftAPI with a decorrelated jitter parameter, which can help reduce competition between threads and better distribute requests to the API. This will cause a reduction in the number of rejected requests."
   ]
  },
  {
   "cell_type": "code",
   "execution_count": null,
   "id": "64b93ac1",
   "metadata": {},
   "outputs": [],
   "source": [
    "api = PushshiftAPI(jitter='decorr', praw=reddit)\n",
    "\n",
    "posts = api.search_submissions(subreddit=subreddit,\n",
    "                               after=start_date,\n",
    "                               before=end_date,\n",
    "                               is_video=False,\n",
    "                               limit=None)\n",
    "\n",
    "print(f\"Total of submissions collected: {len(posts)}.\")"
   ]
  },
  {
   "cell_type": "markdown",
   "id": "29579285",
   "metadata": {},
   "source": [
    "After collecting the data, we can define a DataFrame."
   ]
  },
  {
   "cell_type": "code",
   "execution_count": null,
   "id": "779276f0",
   "metadata": {},
   "outputs": [],
   "source": [
    "posts_df = pd.DataFrame(posts)\n",
    "\n",
    "posts_df.head(5)"
   ]
  },
  {
   "cell_type": "markdown",
   "id": "ab350ffb",
   "metadata": {},
   "source": [
    "## Saving\n",
    "\n",
    "Finally, the DataFrame can be converted to a CSV file."
   ]
  },
  {
   "cell_type": "code",
   "execution_count": null,
   "id": "ddd09ddb",
   "metadata": {},
   "outputs": [],
   "source": [
    "posts_df.to_csv('./rcollege_20200101-20220101_praw.csv', columns=list(posts_df.axes[1]), header=True, index=False)"
   ]
  }
 ],
 "metadata": {
  "kernelspec": {
   "display_name": "Python 3 (ipykernel)",
   "language": "python",
   "name": "python3"
  },
  "language_info": {
   "codemirror_mode": {
    "name": "ipython",
    "version": 3
   },
   "file_extension": ".py",
   "mimetype": "text/x-python",
   "name": "python",
   "nbconvert_exporter": "python",
   "pygments_lexer": "ipython3",
   "version": "3.9.7"
  }
 },
 "nbformat": 4,
 "nbformat_minor": 5
}
